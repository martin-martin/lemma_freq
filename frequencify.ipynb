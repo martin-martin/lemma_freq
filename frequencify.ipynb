{
 "cells": [
  {
   "cell_type": "markdown",
   "metadata": {},
   "source": [
    "# Creating a Spanish Lemma-Frequency list from Open Source corpora"
   ]
  },
  {
   "cell_type": "code",
   "execution_count": 1,
   "metadata": {
    "collapsed": true
   },
   "outputs": [],
   "source": [
    "import re\n",
    "import os\n",
    "import gzip\n",
    "import time\n",
    "import operator\n",
    "import json\n",
    "import logging\n",
    "import pandas as pd\n",
    "from pprint import pformat\n",
    "import xml.etree.ElementTree as ET"
   ]
  },
  {
   "cell_type": "code",
   "execution_count": 2,
   "metadata": {
    "collapsed": false
   },
   "outputs": [],
   "source": [
    "# set up logging\n",
    "logging.basicConfig(filename=\"lemma_freq.log\", format=\"%(asctime)s %(message)s\", level=logging.DEBUG)\n",
    "logging.info(\"================= STARTED RUNNING =================\")\n",
    "logging.info(\"\")\n",
    "# measure process time\n",
    "t_proc = time.clock()\n",
    "# measure real time elapsed\n",
    "t_wall = time.time()"
   ]
  },
  {
   "cell_type": "markdown",
   "metadata": {},
   "source": [
    "## Fetch many files"
   ]
  },
  {
   "cell_type": "code",
   "execution_count": 3,
   "metadata": {
    "collapsed": false
   },
   "outputs": [
    {
     "data": {
      "text/plain": [
       "['Books',\n",
       " 'GlobalVoices',\n",
       " 'OpenSubtitles2016',\n",
       " 'TED2013',\n",
       " 'Wikipedia',\n",
       " 'WMT-News']"
      ]
     },
     "execution_count": 3,
     "metadata": {},
     "output_type": "execute_result"
    }
   ],
   "source": [
    "base_dir = \"corpora/OPUS_es\"\n",
    "subfolders = os.listdir(base_dir)\n",
    "dig_deeper = \"xml/es\"\n",
    "subfolders.remove('.DS_Store')\n",
    "subfolders"
   ]
  },
  {
   "cell_type": "code",
   "execution_count": null,
   "metadata": {
    "collapsed": true
   },
   "outputs": [],
   "source": [
    "# fetches every OPUS file in all the subdirectories\n",
    "file_list = []\n",
    "for root, dirs, files in os.walk(\"corpora/OPUS_es\"):\n",
    "    for file in files:\n",
    "        if file.endswith(\".gz\"):\n",
    "             file_list.append(os.path.join(root, file))"
   ]
  },
  {
   "cell_type": "code",
   "execution_count": 6,
   "metadata": {
    "collapsed": true
   },
   "outputs": [],
   "source": [
    "# short list for testing\n",
    "test_list = file_list[:5]"
   ]
  },
  {
   "cell_type": "markdown",
   "metadata": {},
   "source": [
    "## Initialize all things"
   ]
  },
  {
   "cell_type": "code",
   "execution_count": 7,
   "metadata": {
    "collapsed": true
   },
   "outputs": [],
   "source": [
    "# the dicts that will hold all the info\n",
    "lemma_freq = dict()\n",
    "what_lems = dict()\n",
    "# a regex to exclude punctuation\n",
    "non_words = re.compile(r\"[\\W\\d]+\")"
   ]
  },
  {
   "cell_type": "code",
   "execution_count": 8,
   "metadata": {
    "collapsed": true
   },
   "outputs": [],
   "source": [
    "def fetch_frequency(tree, lemma_freq, what_lems, non_words):\n",
    "    # initialize some stats\n",
    "    start_time = time.time()\n",
    "    s_count = 0\n",
    "    t_count = 0\n",
    "    # root the tree\n",
    "    root = tree.getroot()\n",
    "    # root[1] accesses the <body> of the XML file, where the text resides\n",
    "    for sent in root[1]:\n",
    "        # count introduced for keeping track\n",
    "        s_count += 1\n",
    "        if sent.tag == \"s\":\n",
    "            for word in sent:\n",
    "                t_count += 1\n",
    "                # get the current word token and discard capitalization\n",
    "                token = word.text.lower()\n",
    "                # avoid adding sentence delimiters to the word dictionary\n",
    "                if not re.search(non_words, token):\n",
    "                    lemma = word.get(\"lem\")\n",
    "                    # not every word has a lemma form!\n",
    "                    if type(lemma) == type(None):\n",
    "                        # use the word itself as dict key instead\n",
    "                        # check whether the key exists (initialize it with 0 if not) and add 1 to the count\n",
    "                        lemma_freq[token] = lemma_freq.get(token, 0) + 1\n",
    "                        # create a set of tokens to the lemma key (for controlling the lemmatization work)\n",
    "                        what_lems[token] = what_lems.get(token, set()).union({token})\n",
    "                    # otherwise we collect the lemma info\n",
    "                    else:    \n",
    "                        lemma_freq[lemma] = lemma_freq.get(lemma, 0) + 1\n",
    "                        # add to word list to retrace what words the lemmas came from\n",
    "                        what_lems[lemma] = what_lems.get(lemma, set()).union({token})\n",
    "    logging.info(\"--- worked for {0} seconds ---\".format(time.time() - start_time))\n",
    "    logging.info(\"processed {0} sentences with all together {1} word tokens\".format(s_count, t_count))\n",
    "    return lemma_freq, what_lems"
   ]
  },
  {
   "cell_type": "markdown",
   "metadata": {},
   "source": [
    "## Execute the program"
   ]
  },
  {
   "cell_type": "code",
   "execution_count": 9,
   "metadata": {
    "collapsed": false
   },
   "outputs": [],
   "source": [
    "for zip_file in test_list:\n",
    "#for zip_file in file_list:\n",
    "    with gzip.open(zip_file, \"rb\") as xml_file:\n",
    "        try:\n",
    "            tree = ET.parse(xml_file)\n",
    "            logging.info(\"processing {0}...\".format(zip_file))\n",
    "            lemma_freq, what_lems = fetch_frequency(tree, lemma_freq, what_lems, non_words)\n",
    "            logging.info(\"current length of lemma freq dict: {0}\".format(len(lemma_freq)))\n",
    "            logging.info(\"\")\n",
    "        except:\n",
    "            logging.warning(\"*****ATTENTION***** Mistake in the following file *****ATTENTION*****\")\n",
    "            logging.info(\"{0}\".format(zip_file))\n",
    "            logging.info(\"\")"
   ]
  },
  {
   "cell_type": "code",
   "execution_count": 10,
   "metadata": {
    "collapsed": true
   },
   "outputs": [],
   "source": [
    "logging.info(\"================= FINISH LINE =================\")\n",
    "logging.info(\"seconds process time: {0}\".format(time.clock() - t_proc))\n",
    "logging.info(\"seconds real time: {0}\".format(time.time() - t_wall))\n",
    "logging.info(\"\")\n",
    "# start a new timer to time the calculations\n",
    "t_stats = time.time()"
   ]
  },
  {
   "cell_type": "code",
   "execution_count": 11,
   "metadata": {
    "collapsed": false,
    "scrolled": true
   },
   "outputs": [],
   "source": [
    "# how many of the processed words have inflections?\n",
    "count = 0\n",
    "for key, value in what_lems.items():\n",
    "    if len(value) == 1:\n",
    "        count += 1\n",
    "logging.info(\"================= STATS, DUDE! =================\")\n",
    "logging.info(\"from the {0} lemmas {1} have inflections and {2} are just single words\".format(len(what_lems), len(what_lems) - count, count))\n",
    "logging.info(\"YO!\")"
   ]
  },
  {
   "cell_type": "code",
   "execution_count": 12,
   "metadata": {
    "collapsed": false
   },
   "outputs": [],
   "source": [
    "# start a new timer to time the calculations\n",
    "t_files = time.time()\n",
    "\n",
    "# define the directory to save the outputs\n",
    "output_dir = \"outputs\"\n",
    "try:\n",
    "    os.mkdir(output_dir)\n",
    "except:\n",
    "    pass\n",
    "\n"
   ]
  },
  {
   "cell_type": "code",
   "execution_count": 13,
   "metadata": {
    "collapsed": false
   },
   "outputs": [],
   "source": [
    "# check up on how the lemmatizations went\n",
    "try:\n",
    "    with open(output_dir + \"/check_lems.json\", \"w\") as f:\n",
    "        json.dump(what_lems, f)\n",
    "except:\n",
    "    logging.warning(\"*****ATTENTION***** failed to write file *****ATTENTION*****\")\n",
    "    with open(output_dir + \"/check_lems.txt\", \"w\") as f:\n",
    "        f.write(pformat(what_lems))"
   ]
  },
  {
   "cell_type": "code",
   "execution_count": 14,
   "metadata": {
    "collapsed": true
   },
   "outputs": [],
   "source": [
    "# save also the full frequency dict\n",
    "try:\n",
    "    with open(output_dir + \"/full_frequency.json\", \"w\") as f:\n",
    "        json.dump(lemma_freq, f)\n",
    "except:\n",
    "    logging.warning(\"*****ATTENTION***** failed to write file *****ATTENTION*****\")\n",
    "    with open(output_dir + \"/full_frequency.txt\", \"w\") as f:\n",
    "        f.write(pformat(lemma_freq))"
   ]
  },
  {
   "cell_type": "code",
   "execution_count": 15,
   "metadata": {
    "collapsed": false
   },
   "outputs": [],
   "source": [
    "# sort the dict values according to frequency and keep the top 5000\n",
    "fdf = pd.DataFrame(list(lemma_freq.items()), columns=[\"word\", \"frequency\"])"
   ]
  },
  {
   "cell_type": "code",
   "execution_count": 17,
   "metadata": {
    "collapsed": false,
    "scrolled": true
   },
   "outputs": [],
   "source": [
    "sorted_fdf = fdf.sort_values(by=[\"frequency\"], ascending=[False])\n",
    "top_5000_fdf = sorted_fdf[:5000]\n",
    "top_5000_fdf.to_csv(output_dir + \"/top_5000.csv\", encoding=\"utf-8\")"
   ]
  },
  {
   "cell_type": "code",
   "execution_count": 18,
   "metadata": {
    "collapsed": true
   },
   "outputs": [],
   "source": [
    "logging.info(\"================= ******* THE END ******** =================\")\n",
    "logging.info(\"seconds process time: {0}\".format(time.clock() - t_proc))\n",
    "logging.info(\"seconds real time: {0}\".format(time.time() - t_wall))"
   ]
  }
 ],
 "metadata": {
  "kernelspec": {
   "display_name": "Python 3",
   "language": "python",
   "name": "python3"
  },
  "language_info": {
   "codemirror_mode": {
    "name": "ipython",
    "version": 3
   },
   "file_extension": ".py",
   "mimetype": "text/x-python",
   "name": "python",
   "nbconvert_exporter": "python",
   "pygments_lexer": "ipython3",
   "version": "3.4.5"
  }
 },
 "nbformat": 4,
 "nbformat_minor": 2
}
