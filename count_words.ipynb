{
 "cells": [
  {
   "cell_type": "code",
   "execution_count": 18,
   "metadata": {
    "collapsed": false
   },
   "outputs": [],
   "source": [
    "import os\n",
    "import re\n",
    "import time\n",
    "import logging\n",
    "import gzip\n",
    "import json\n",
    "import pandas as pd\n",
    "from pprint import pformat\n",
    "import xml.etree.ElementTree as ET"
   ]
  },
  {
   "cell_type": "code",
   "execution_count": 2,
   "metadata": {
    "collapsed": false
   },
   "outputs": [],
   "source": [
    "# set up logging\n",
    "logging.basicConfig(filename=\"word_freq.log\", filemode=\"w\", format=\"%(asctime)s %(message)s\", level=logging.DEBUG)\n",
    "logging.info(\"================= STARTED RUNNING =================\")\n",
    "logging.info(\"\")\n",
    "# measure process time\n",
    "t_proc = time.clock()\n",
    "# measure real time elapsed\n",
    "t_wall = time.time()"
   ]
  },
  {
   "cell_type": "code",
   "execution_count": 3,
   "metadata": {
    "collapsed": true
   },
   "outputs": [],
   "source": [
    "# fetches every OPUS file in all subdirectories\n",
    "file_list = []\n",
    "for root, dirs, files in os.walk(\"corpora/OPUS_es\"):\n",
    "    for file in files:\n",
    "        if file.endswith(\".gz\"):\n",
    "             file_list.append(os.path.join(root, file))"
   ]
  },
  {
   "cell_type": "code",
   "execution_count": null,
   "metadata": {
    "collapsed": true
   },
   "outputs": [],
   "source": [
    "# testing\n",
    "#file_list = file_list[:2]\n",
    "#file_list"
   ]
  },
  {
   "cell_type": "code",
   "execution_count": 5,
   "metadata": {
    "collapsed": false
   },
   "outputs": [],
   "source": [
    "# the dict that will hold all the info\n",
    "word_freq = dict()\n",
    "# a regex to exclude punctuation\n",
    "non_words = re.compile(r\"[\\W\\d]+\")"
   ]
  },
  {
   "cell_type": "code",
   "execution_count": 16,
   "metadata": {
    "collapsed": false
   },
   "outputs": [],
   "source": [
    "def get_frequency(tree, word_freq, non_words):\n",
    "    \"\"\"parses the XML ElementTree and creates a count of word occurences.\"\"\"\n",
    "    start_time = time.time()\n",
    "    root = tree.getroot()\n",
    "    tok_count, word_count = 0, 0 # initialize counts for stats\n",
    "    current_length = len(word_freq)\n",
    "    for word in root.iter(\"w\"): # finds recusively all <w> tags (contain the words)\n",
    "        tok_count += 1\n",
    "        # get the current word token and discard capitalization\n",
    "        token = word.text.lower()\n",
    "        if not re.search(non_words, token): # exclude special chars & punctuation\n",
    "            word_count += 1\n",
    "            # create count entry or add 1 if it is already there\n",
    "            word_freq[token] = word_freq.get(token, 0) + 1\n",
    "    logging.info(\"--- worked for {0} seconds ---\".format(time.time() - start_time))\n",
    "    logging.info(\"processed {0} tokens of which {1} were word tokens\".format(tok_count, word_count))\n",
    "    new_length = len(word_freq)\n",
    "    logging.info(\"added {0} words to word dict; new length: {1}\".format(new_length - current_length, new_length))\n",
    "    return word_freq"
   ]
  },
  {
   "cell_type": "code",
   "execution_count": 19,
   "metadata": {
    "collapsed": false
   },
   "outputs": [],
   "source": [
    "for zip_file in file_list:\n",
    "    with gzip.open(zip_file, \"rb\") as xml_file:\n",
    "        logging.info(\"\")\n",
    "        logging.info(\"FILE -------> {0}\".format(xml_file))\n",
    "        tree = ET.parse(xml_file)\n",
    "        get_frequency(tree, word_freq, non_words)"
   ]
  },
  {
   "cell_type": "code",
   "execution_count": null,
   "metadata": {
    "collapsed": true
   },
   "outputs": [],
   "source": [
    "logging.info(\"\")\n",
    "logging.info(\"\")\n",
    "logging.info(\"================= ******* THE END ******** =================\")\n",
    "logging.info(\"seconds process time: {0}\".format(time.clock() - t_proc))\n",
    "logging.info(\"seconds real time: {0}\".format(time.time() - t_wall))"
   ]
  },
  {
   "cell_type": "code",
   "execution_count": null,
   "metadata": {
    "collapsed": true
   },
   "outputs": [],
   "source": [
    "# define the directory to save the outputs\n",
    "output_dir = \"output_wf\"\n",
    "try:\n",
    "    os.mkdir(output_dir)\n",
    "except:\n",
    "    pass"
   ]
  },
  {
   "cell_type": "code",
   "execution_count": null,
   "metadata": {
    "collapsed": false
   },
   "outputs": [],
   "source": [
    "# save also the full frequency dict\n",
    "with open(output_dir + \"/word_frequency.json\", \"w\") as f:\n",
    "    json.dump(word_freq, f)"
   ]
  },
  {
   "cell_type": "code",
   "execution_count": null,
   "metadata": {
    "collapsed": true
   },
   "outputs": [],
   "source": [
    "# sort the dict values according to frequency and keep the top 10000\n",
    "fdf = pd.DataFrame(list(word_freq.items()), columns=[\"word\", \"frequency\"])\n",
    "sorted_fdf = fdf.sort_values(by=[\"frequency\"], ascending=[False])\n",
    "top_10000_fdf = sorted_fdf[:10000]\n",
    "top_10000_fdf.to_csv(output_dir + \"/top_10000.csv\", encoding=\"utf-8\")"
   ]
  }
 ],
 "metadata": {
  "kernelspec": {
   "display_name": "Python 3",
   "language": "python",
   "name": "python3"
  },
  "language_info": {
   "codemirror_mode": {
    "name": "ipython",
    "version": 3
   },
   "file_extension": ".py",
   "mimetype": "text/x-python",
   "name": "python",
   "nbconvert_exporter": "python",
   "pygments_lexer": "ipython3",
   "version": "3.4.5"
  }
 },
 "nbformat": 4,
 "nbformat_minor": 2
}
